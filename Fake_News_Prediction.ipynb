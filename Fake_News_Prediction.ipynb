{
  "nbformat": 4,
  "nbformat_minor": 0,
  "metadata": {
    "colab": {
      "provenance": []
    },
    "kernelspec": {
      "name": "python3",
      "display_name": "Python 3"
    },
    "language_info": {
      "name": "python"
    }
  },
  "cells": [
    {
      "cell_type": "markdown",
      "source": [
        "# Fake News Prediction Project\n",
        "\n",
        "For this project, I used the train.csv dataset, which can be found here: [train.csv](https://www.kaggle.com/c/fake-news/data?select=train.csv)\n",
        "\n",
        "train.csv is a full training dataset with the following attributes:\n",
        "\n",
        "\n",
        "*   **id** - unique id for a news article\n",
        "*   **title** - the title of a news article\n",
        "*   **author** - author of the news article\n",
        "*   **text** - the text of the article; could be incomplete\n",
        "*   **label** - a label that marks the article as potentially unreliable (1: unreliable, 0: reliable)\n",
        "\n",
        "\n",
        "\n",
        "\n",
        "\n",
        "\n",
        "\n"
      ],
      "metadata": {
        "id": "oG_-wM1nrfVA"
      }
    },
    {
      "cell_type": "markdown",
      "source": [
        "Importing the dependencies"
      ],
      "metadata": {
        "id": "JCA7ojjCvFCC"
      }
    },
    {
      "cell_type": "code",
      "source": [
        "import nltk\n",
        "nltk.download('stopwords')"
      ],
      "metadata": {
        "colab": {
          "base_uri": "https://localhost:8080/"
        },
        "id": "A3DpCCD3yn63",
        "outputId": "945ef3f5-970e-44dd-99d5-6159869214ac"
      },
      "execution_count": null,
      "outputs": [
        {
          "output_type": "stream",
          "name": "stderr",
          "text": [
            "[nltk_data] Downloading package stopwords to /root/nltk_data...\n",
            "[nltk_data]   Unzipping corpora/stopwords.zip.\n"
          ]
        },
        {
          "output_type": "execute_result",
          "data": {
            "text/plain": [
              "True"
            ]
          },
          "metadata": {},
          "execution_count": 1
        }
      ]
    },
    {
      "cell_type": "code",
      "source": [
        "import numpy as np\n",
        "import pandas as pd\n",
        "import matplotlib.pyplot as plt\n",
        "import re\n",
        "from nltk.corpus import stopwords\n",
        "from nltk.stem.snowball import SnowballStemmer\n",
        "from sklearn.feature_extraction.text import TfidfVectorizer\n",
        "from sklearn.linear_model import LogisticRegression\n",
        "from sklearn.metrics import accuracy_score, precision_score, recall_score, f1_score\n",
        "from sklearn.model_selection import train_test_split"
      ],
      "metadata": {
        "id": "SOdvWCpOvHFV"
      },
      "execution_count": null,
      "outputs": []
    },
    {
      "cell_type": "markdown",
      "source": [
        "\n",
        "Stopwords are common words in a language that are typically filtered out from text data during natural language processing. These words do not carry much meaning on their own and are often used to connect other words in a sentence.\n",
        "\n"
      ],
      "metadata": {
        "id": "BDJgr0KLzD53"
      }
    },
    {
      "cell_type": "code",
      "source": [
        "#printing the english stopwords\n",
        "print(stopwords.words('english'))"
      ],
      "metadata": {
        "colab": {
          "base_uri": "https://localhost:8080/"
        },
        "id": "H2t72fRzzkIf",
        "outputId": "0aa22d3b-6a7d-4a0a-f2d9-ff1459c58648"
      },
      "execution_count": null,
      "outputs": [
        {
          "output_type": "stream",
          "name": "stdout",
          "text": [
            "['i', 'me', 'my', 'myself', 'we', 'our', 'ours', 'ourselves', 'you', \"you're\", \"you've\", \"you'll\", \"you'd\", 'your', 'yours', 'yourself', 'yourselves', 'he', 'him', 'his', 'himself', 'she', \"she's\", 'her', 'hers', 'herself', 'it', \"it's\", 'its', 'itself', 'they', 'them', 'their', 'theirs', 'themselves', 'what', 'which', 'who', 'whom', 'this', 'that', \"that'll\", 'these', 'those', 'am', 'is', 'are', 'was', 'were', 'be', 'been', 'being', 'have', 'has', 'had', 'having', 'do', 'does', 'did', 'doing', 'a', 'an', 'the', 'and', 'but', 'if', 'or', 'because', 'as', 'until', 'while', 'of', 'at', 'by', 'for', 'with', 'about', 'against', 'between', 'into', 'through', 'during', 'before', 'after', 'above', 'below', 'to', 'from', 'up', 'down', 'in', 'out', 'on', 'off', 'over', 'under', 'again', 'further', 'then', 'once', 'here', 'there', 'when', 'where', 'why', 'how', 'all', 'any', 'both', 'each', 'few', 'more', 'most', 'other', 'some', 'such', 'no', 'nor', 'not', 'only', 'own', 'same', 'so', 'than', 'too', 'very', 's', 't', 'can', 'will', 'just', 'don', \"don't\", 'should', \"should've\", 'now', 'd', 'll', 'm', 'o', 're', 've', 'y', 'ain', 'aren', \"aren't\", 'couldn', \"couldn't\", 'didn', \"didn't\", 'doesn', \"doesn't\", 'hadn', \"hadn't\", 'hasn', \"hasn't\", 'haven', \"haven't\", 'isn', \"isn't\", 'ma', 'mightn', \"mightn't\", 'mustn', \"mustn't\", 'needn', \"needn't\", 'shan', \"shan't\", 'shouldn', \"shouldn't\", 'wasn', \"wasn't\", 'weren', \"weren't\", 'won', \"won't\", 'wouldn', \"wouldn't\"]\n"
          ]
        }
      ]
    },
    {
      "cell_type": "markdown",
      "source": [
        "Loading the dataset"
      ],
      "metadata": {
        "id": "42G6QkLGzxqQ"
      }
    },
    {
      "cell_type": "code",
      "source": [
        "newsData = pd.read_csv('/content/train.csv')\n",
        "newsData"
      ],
      "metadata": {
        "colab": {
          "base_uri": "https://localhost:8080/",
          "height": 424
        },
        "id": "x20UDl-Oz9jr",
        "outputId": "635c0f55-d61f-4c86-820c-f8cc9c263cb4"
      },
      "execution_count": null,
      "outputs": [
        {
          "output_type": "execute_result",
          "data": {
            "text/plain": [
              "          id                                              title  \\\n",
              "0          0  House Dem Aide: We Didn’t Even See Comey’s Let...   \n",
              "1          1  FLYNN: Hillary Clinton, Big Woman on Campus - ...   \n",
              "2          2                  Why the Truth Might Get You Fired   \n",
              "3          3  15 Civilians Killed In Single US Airstrike Hav...   \n",
              "4          4  Iranian woman jailed for fictional unpublished...   \n",
              "...      ...                                                ...   \n",
              "20795  20795  Rapper T.I.: Trump a ’Poster Child For White S...   \n",
              "20796  20796  N.F.L. Playoffs: Schedule, Matchups and Odds -...   \n",
              "20797  20797  Macy’s Is Said to Receive Takeover Approach by...   \n",
              "20798  20798  NATO, Russia To Hold Parallel Exercises In Bal...   \n",
              "20799  20799                          What Keeps the F-35 Alive   \n",
              "\n",
              "                                          author  \\\n",
              "0                                  Darrell Lucus   \n",
              "1                                Daniel J. Flynn   \n",
              "2                             Consortiumnews.com   \n",
              "3                                Jessica Purkiss   \n",
              "4                                 Howard Portnoy   \n",
              "...                                          ...   \n",
              "20795                              Jerome Hudson   \n",
              "20796                           Benjamin Hoffman   \n",
              "20797  Michael J. de la Merced and Rachel Abrams   \n",
              "20798                                Alex Ansary   \n",
              "20799                              David Swanson   \n",
              "\n",
              "                                                    text  label  \n",
              "0      House Dem Aide: We Didn’t Even See Comey’s Let...      1  \n",
              "1      Ever get the feeling your life circles the rou...      0  \n",
              "2      Why the Truth Might Get You Fired October 29, ...      1  \n",
              "3      Videos 15 Civilians Killed In Single US Airstr...      1  \n",
              "4      Print \\nAn Iranian woman has been sentenced to...      1  \n",
              "...                                                  ...    ...  \n",
              "20795  Rapper T. I. unloaded on black celebrities who...      0  \n",
              "20796  When the Green Bay Packers lost to the Washing...      0  \n",
              "20797  The Macy’s of today grew from the union of sev...      0  \n",
              "20798  NATO, Russia To Hold Parallel Exercises In Bal...      1  \n",
              "20799    David Swanson is an author, activist, journa...      1  \n",
              "\n",
              "[20800 rows x 5 columns]"
            ],
            "text/html": [
              "\n",
              "  <div id=\"df-aa20505a-54eb-4368-a1bf-f6661baea559\">\n",
              "    <div class=\"colab-df-container\">\n",
              "      <div>\n",
              "<style scoped>\n",
              "    .dataframe tbody tr th:only-of-type {\n",
              "        vertical-align: middle;\n",
              "    }\n",
              "\n",
              "    .dataframe tbody tr th {\n",
              "        vertical-align: top;\n",
              "    }\n",
              "\n",
              "    .dataframe thead th {\n",
              "        text-align: right;\n",
              "    }\n",
              "</style>\n",
              "<table border=\"1\" class=\"dataframe\">\n",
              "  <thead>\n",
              "    <tr style=\"text-align: right;\">\n",
              "      <th></th>\n",
              "      <th>id</th>\n",
              "      <th>title</th>\n",
              "      <th>author</th>\n",
              "      <th>text</th>\n",
              "      <th>label</th>\n",
              "    </tr>\n",
              "  </thead>\n",
              "  <tbody>\n",
              "    <tr>\n",
              "      <th>0</th>\n",
              "      <td>0</td>\n",
              "      <td>House Dem Aide: We Didn’t Even See Comey’s Let...</td>\n",
              "      <td>Darrell Lucus</td>\n",
              "      <td>House Dem Aide: We Didn’t Even See Comey’s Let...</td>\n",
              "      <td>1</td>\n",
              "    </tr>\n",
              "    <tr>\n",
              "      <th>1</th>\n",
              "      <td>1</td>\n",
              "      <td>FLYNN: Hillary Clinton, Big Woman on Campus - ...</td>\n",
              "      <td>Daniel J. Flynn</td>\n",
              "      <td>Ever get the feeling your life circles the rou...</td>\n",
              "      <td>0</td>\n",
              "    </tr>\n",
              "    <tr>\n",
              "      <th>2</th>\n",
              "      <td>2</td>\n",
              "      <td>Why the Truth Might Get You Fired</td>\n",
              "      <td>Consortiumnews.com</td>\n",
              "      <td>Why the Truth Might Get You Fired October 29, ...</td>\n",
              "      <td>1</td>\n",
              "    </tr>\n",
              "    <tr>\n",
              "      <th>3</th>\n",
              "      <td>3</td>\n",
              "      <td>15 Civilians Killed In Single US Airstrike Hav...</td>\n",
              "      <td>Jessica Purkiss</td>\n",
              "      <td>Videos 15 Civilians Killed In Single US Airstr...</td>\n",
              "      <td>1</td>\n",
              "    </tr>\n",
              "    <tr>\n",
              "      <th>4</th>\n",
              "      <td>4</td>\n",
              "      <td>Iranian woman jailed for fictional unpublished...</td>\n",
              "      <td>Howard Portnoy</td>\n",
              "      <td>Print \\nAn Iranian woman has been sentenced to...</td>\n",
              "      <td>1</td>\n",
              "    </tr>\n",
              "    <tr>\n",
              "      <th>...</th>\n",
              "      <td>...</td>\n",
              "      <td>...</td>\n",
              "      <td>...</td>\n",
              "      <td>...</td>\n",
              "      <td>...</td>\n",
              "    </tr>\n",
              "    <tr>\n",
              "      <th>20795</th>\n",
              "      <td>20795</td>\n",
              "      <td>Rapper T.I.: Trump a ’Poster Child For White S...</td>\n",
              "      <td>Jerome Hudson</td>\n",
              "      <td>Rapper T. I. unloaded on black celebrities who...</td>\n",
              "      <td>0</td>\n",
              "    </tr>\n",
              "    <tr>\n",
              "      <th>20796</th>\n",
              "      <td>20796</td>\n",
              "      <td>N.F.L. Playoffs: Schedule, Matchups and Odds -...</td>\n",
              "      <td>Benjamin Hoffman</td>\n",
              "      <td>When the Green Bay Packers lost to the Washing...</td>\n",
              "      <td>0</td>\n",
              "    </tr>\n",
              "    <tr>\n",
              "      <th>20797</th>\n",
              "      <td>20797</td>\n",
              "      <td>Macy’s Is Said to Receive Takeover Approach by...</td>\n",
              "      <td>Michael J. de la Merced and Rachel Abrams</td>\n",
              "      <td>The Macy’s of today grew from the union of sev...</td>\n",
              "      <td>0</td>\n",
              "    </tr>\n",
              "    <tr>\n",
              "      <th>20798</th>\n",
              "      <td>20798</td>\n",
              "      <td>NATO, Russia To Hold Parallel Exercises In Bal...</td>\n",
              "      <td>Alex Ansary</td>\n",
              "      <td>NATO, Russia To Hold Parallel Exercises In Bal...</td>\n",
              "      <td>1</td>\n",
              "    </tr>\n",
              "    <tr>\n",
              "      <th>20799</th>\n",
              "      <td>20799</td>\n",
              "      <td>What Keeps the F-35 Alive</td>\n",
              "      <td>David Swanson</td>\n",
              "      <td>David Swanson is an author, activist, journa...</td>\n",
              "      <td>1</td>\n",
              "    </tr>\n",
              "  </tbody>\n",
              "</table>\n",
              "<p>20800 rows × 5 columns</p>\n",
              "</div>\n",
              "      <button class=\"colab-df-convert\" onclick=\"convertToInteractive('df-aa20505a-54eb-4368-a1bf-f6661baea559')\"\n",
              "              title=\"Convert this dataframe to an interactive table.\"\n",
              "              style=\"display:none;\">\n",
              "        \n",
              "  <svg xmlns=\"http://www.w3.org/2000/svg\" height=\"24px\"viewBox=\"0 0 24 24\"\n",
              "       width=\"24px\">\n",
              "    <path d=\"M0 0h24v24H0V0z\" fill=\"none\"/>\n",
              "    <path d=\"M18.56 5.44l.94 2.06.94-2.06 2.06-.94-2.06-.94-.94-2.06-.94 2.06-2.06.94zm-11 1L8.5 8.5l.94-2.06 2.06-.94-2.06-.94L8.5 2.5l-.94 2.06-2.06.94zm10 10l.94 2.06.94-2.06 2.06-.94-2.06-.94-.94-2.06-.94 2.06-2.06.94z\"/><path d=\"M17.41 7.96l-1.37-1.37c-.4-.4-.92-.59-1.43-.59-.52 0-1.04.2-1.43.59L10.3 9.45l-7.72 7.72c-.78.78-.78 2.05 0 2.83L4 21.41c.39.39.9.59 1.41.59.51 0 1.02-.2 1.41-.59l7.78-7.78 2.81-2.81c.8-.78.8-2.07 0-2.86zM5.41 20L4 18.59l7.72-7.72 1.47 1.35L5.41 20z\"/>\n",
              "  </svg>\n",
              "      </button>\n",
              "      \n",
              "  <style>\n",
              "    .colab-df-container {\n",
              "      display:flex;\n",
              "      flex-wrap:wrap;\n",
              "      gap: 12px;\n",
              "    }\n",
              "\n",
              "    .colab-df-convert {\n",
              "      background-color: #E8F0FE;\n",
              "      border: none;\n",
              "      border-radius: 50%;\n",
              "      cursor: pointer;\n",
              "      display: none;\n",
              "      fill: #1967D2;\n",
              "      height: 32px;\n",
              "      padding: 0 0 0 0;\n",
              "      width: 32px;\n",
              "    }\n",
              "\n",
              "    .colab-df-convert:hover {\n",
              "      background-color: #E2EBFA;\n",
              "      box-shadow: 0px 1px 2px rgba(60, 64, 67, 0.3), 0px 1px 3px 1px rgba(60, 64, 67, 0.15);\n",
              "      fill: #174EA6;\n",
              "    }\n",
              "\n",
              "    [theme=dark] .colab-df-convert {\n",
              "      background-color: #3B4455;\n",
              "      fill: #D2E3FC;\n",
              "    }\n",
              "\n",
              "    [theme=dark] .colab-df-convert:hover {\n",
              "      background-color: #434B5C;\n",
              "      box-shadow: 0px 1px 3px 1px rgba(0, 0, 0, 0.15);\n",
              "      filter: drop-shadow(0px 1px 2px rgba(0, 0, 0, 0.3));\n",
              "      fill: #FFFFFF;\n",
              "    }\n",
              "  </style>\n",
              "\n",
              "      <script>\n",
              "        const buttonEl =\n",
              "          document.querySelector('#df-aa20505a-54eb-4368-a1bf-f6661baea559 button.colab-df-convert');\n",
              "        buttonEl.style.display =\n",
              "          google.colab.kernel.accessAllowed ? 'block' : 'none';\n",
              "\n",
              "        async function convertToInteractive(key) {\n",
              "          const element = document.querySelector('#df-aa20505a-54eb-4368-a1bf-f6661baea559');\n",
              "          const dataTable =\n",
              "            await google.colab.kernel.invokeFunction('convertToInteractive',\n",
              "                                                     [key], {});\n",
              "          if (!dataTable) return;\n",
              "\n",
              "          const docLinkHtml = 'Like what you see? Visit the ' +\n",
              "            '<a target=\"_blank\" href=https://colab.research.google.com/notebooks/data_table.ipynb>data table notebook</a>'\n",
              "            + ' to learn more about interactive tables.';\n",
              "          element.innerHTML = '';\n",
              "          dataTable['output_type'] = 'display_data';\n",
              "          await google.colab.output.renderOutput(dataTable, element);\n",
              "          const docLink = document.createElement('div');\n",
              "          docLink.innerHTML = docLinkHtml;\n",
              "          element.appendChild(docLink);\n",
              "        }\n",
              "      </script>\n",
              "    </div>\n",
              "  </div>\n",
              "  "
            ]
          },
          "metadata": {},
          "execution_count": 4
        }
      ]
    },
    {
      "cell_type": "code",
      "source": [
        "newsData.shape"
      ],
      "metadata": {
        "colab": {
          "base_uri": "https://localhost:8080/"
        },
        "id": "hubgEvBw0NWm",
        "outputId": "90041a1c-1e1a-4109-a339-05541a504362"
      },
      "execution_count": null,
      "outputs": [
        {
          "output_type": "execute_result",
          "data": {
            "text/plain": [
              "(20800, 5)"
            ]
          },
          "metadata": {},
          "execution_count": 5
        }
      ]
    },
    {
      "cell_type": "markdown",
      "source": [
        "As we can see, our dataset has 20800 rows and 5 columns"
      ],
      "metadata": {
        "id": "fHUccwEe0Tje"
      }
    },
    {
      "cell_type": "code",
      "source": [
        "#counting the number of missing values in the dataset\n",
        "newsData.isnull().sum()"
      ],
      "metadata": {
        "colab": {
          "base_uri": "https://localhost:8080/"
        },
        "id": "J_3wJwzR0YSJ",
        "outputId": "7cb505cf-72ff-47f7-889b-e330442f3f30"
      },
      "execution_count": null,
      "outputs": [
        {
          "output_type": "execute_result",
          "data": {
            "text/plain": [
              "id           0\n",
              "title      558\n",
              "author    1957\n",
              "text        39\n",
              "label        0\n",
              "dtype: int64"
            ]
          },
          "metadata": {},
          "execution_count": 6
        }
      ]
    },
    {
      "cell_type": "markdown",
      "source": [
        "The output indicates that:\n",
        "\n",
        "\n",
        "*   The 'id' column has no missing values\n",
        "*   The 'title' column has 558 missing values\n",
        "*   The 'author' column has 1957 missing values\n",
        "*   The 'text' column has 39 missing values\n",
        "*   The 'label' column has no missing values\n",
        "\n"
      ],
      "metadata": {
        "id": "dqbRYznh1us2"
      }
    },
    {
      "cell_type": "code",
      "source": [
        "#replacing the null values with an empty string\n",
        "newsData = newsData.fillna('')"
      ],
      "metadata": {
        "id": "ppySA2Rm2pHd"
      },
      "execution_count": null,
      "outputs": []
    },
    {
      "cell_type": "code",
      "source": [
        "newsData['content'] = newsData['author'] + ' ' + newsData['title']\n",
        "newsData['content']"
      ],
      "metadata": {
        "colab": {
          "base_uri": "https://localhost:8080/"
        },
        "id": "hkbtbRQz25pm",
        "outputId": "ee260017-4405-42e0-974e-8923bb8484b2"
      },
      "execution_count": null,
      "outputs": [
        {
          "output_type": "execute_result",
          "data": {
            "text/plain": [
              "0        Darrell Lucus House Dem Aide: We Didn’t Even S...\n",
              "1        Daniel J. Flynn FLYNN: Hillary Clinton, Big Wo...\n",
              "2        Consortiumnews.com Why the Truth Might Get You...\n",
              "3        Jessica Purkiss 15 Civilians Killed In Single ...\n",
              "4        Howard Portnoy Iranian woman jailed for fictio...\n",
              "                               ...                        \n",
              "20795    Jerome Hudson Rapper T.I.: Trump a ’Poster Chi...\n",
              "20796    Benjamin Hoffman N.F.L. Playoffs: Schedule, Ma...\n",
              "20797    Michael J. de la Merced and Rachel Abrams Macy...\n",
              "20798    Alex Ansary NATO, Russia To Hold Parallel Exer...\n",
              "20799              David Swanson What Keeps the F-35 Alive\n",
              "Name: content, Length: 20800, dtype: object"
            ]
          },
          "metadata": {},
          "execution_count": 8
        }
      ]
    },
    {
      "cell_type": "code",
      "source": [
        "#separating the data and label\n",
        "data = newsData.drop(columns='label', axis=1)\n",
        "label = newsData['label']"
      ],
      "metadata": {
        "id": "zAUv7oO23TLu"
      },
      "execution_count": null,
      "outputs": []
    },
    {
      "cell_type": "code",
      "source": [
        "newsContentData = newsData['content']"
      ],
      "metadata": {
        "id": "b3h9Tx7z9X3v"
      },
      "execution_count": null,
      "outputs": []
    },
    {
      "cell_type": "markdown",
      "source": [
        "Stemming is a text normalization technique used in natural language processing to reduce words to their base or root form, called a stem. This is done by removing the suffixes of prefixes from a word. The resulting stem may not be a valid word itself, but it can be used to group together similar words with the same stem, which can aid in text analysis and information retrieval tasks."
      ],
      "metadata": {
        "id": "fgBHWHAy9p9v"
      }
    },
    {
      "cell_type": "markdown",
      "source": [
        "We're going to use 'SnowballStemmer', which is a stemming library in Python that is used to reduce words to their base or root form. It is part of the Natural Language Toolkit (NLTK) and is based on the Snowball stemming algorithm."
      ],
      "metadata": {
        "id": "SPO_NnpFEcse"
      }
    },
    {
      "cell_type": "code",
      "source": [
        "def stemming(content):\n",
        "  stemmer = SnowballStemmer(language='english')\n",
        "  stemmed_tokens = []\n",
        "  for token in content.split():\n",
        "    stemmed_tokens.append(stemmer.stem(token))\n",
        "  stemmed_content = \" \".join(stemmed_tokens)\n",
        "  return stemmed_content"
      ],
      "metadata": {
        "id": "pCmij-p8_snW"
      },
      "execution_count": null,
      "outputs": []
    },
    {
      "cell_type": "code",
      "source": [
        "newsContentData = newsContentData.apply(stemming)"
      ],
      "metadata": {
        "id": "1oFxnjCPAutd"
      },
      "execution_count": null,
      "outputs": []
    },
    {
      "cell_type": "code",
      "source": [
        "print(newsContentData)"
      ],
      "metadata": {
        "colab": {
          "base_uri": "https://localhost:8080/"
        },
        "id": "BfnTHJsxA2ok",
        "outputId": "75360a68-05ec-43c6-e80d-7bd17f791f7b"
      },
      "execution_count": null,
      "outputs": [
        {
          "output_type": "stream",
          "name": "stdout",
          "text": [
            "0        darrel lucus hous dem aide: we didn't even see...\n",
            "1        daniel j. flynn flynn: hillari clinton, big wo...\n",
            "2        consortiumnews.com whi the truth might get you...\n",
            "3        jessica purkiss 15 civilian kill in singl us a...\n",
            "4        howard portnoy iranian woman jail for fiction ...\n",
            "                               ...                        \n",
            "20795    jerom hudson rapper t.i.: trump a poster child...\n",
            "20796    benjamin hoffman n.f.l. playoffs: schedule, ma...\n",
            "20797    michael j. de la merc and rachel abram maci is...\n",
            "20798    alex ansari nato, russia to hold parallel exer...\n",
            "20799                david swanson what keep the f-35 aliv\n",
            "Name: content, Length: 20800, dtype: object\n"
          ]
        }
      ]
    },
    {
      "cell_type": "code",
      "source": [
        "#separating the data and label\n",
        "data = newsContentData.values\n",
        "label = newsData['label'].values"
      ],
      "metadata": {
        "id": "rRlfFOoZCdRV"
      },
      "execution_count": null,
      "outputs": []
    },
    {
      "cell_type": "code",
      "source": [
        "print(data)"
      ],
      "metadata": {
        "colab": {
          "base_uri": "https://localhost:8080/"
        },
        "id": "5zDLhlYWFXAG",
        "outputId": "e6e56e8f-b575-4413-a9b4-a7a7f3b56404"
      },
      "execution_count": null,
      "outputs": [
        {
          "output_type": "stream",
          "name": "stdout",
          "text": [
            "[\"darrel lucus hous dem aide: we didn't even see comey letter until jason chaffetz tweet it\"\n",
            " 'daniel j. flynn flynn: hillari clinton, big woman on campus - breitbart'\n",
            " 'consortiumnews.com whi the truth might get you fire' ...\n",
            " 'michael j. de la merc and rachel abram maci is said to receiv takeov approach by hudson bay - the new york time'\n",
            " 'alex ansari nato, russia to hold parallel exercis in balkan'\n",
            " 'david swanson what keep the f-35 aliv']\n"
          ]
        }
      ]
    },
    {
      "cell_type": "code",
      "source": [
        "print(label)\n",
        "label.shape"
      ],
      "metadata": {
        "colab": {
          "base_uri": "https://localhost:8080/"
        },
        "id": "ZhRuNJxmFY8l",
        "outputId": "80cad8e6-edc6-43d3-8946-fc2c8efd363d"
      },
      "execution_count": null,
      "outputs": [
        {
          "output_type": "stream",
          "name": "stdout",
          "text": [
            "[1 0 1 ... 0 1 1]\n"
          ]
        },
        {
          "output_type": "execute_result",
          "data": {
            "text/plain": [
              "(20800,)"
            ]
          },
          "metadata": {},
          "execution_count": 16
        }
      ]
    },
    {
      "cell_type": "markdown",
      "source": [
        "'TfidfVectorizer' is a text preprocessing tool in the 'sklearn.feature_extraction.text' module that is used to convert a collection of raw documents into a numerical feature matrix."
      ],
      "metadata": {
        "id": "VTgVSGQRDR-2"
      }
    },
    {
      "cell_type": "code",
      "source": [
        "vectorizer = TfidfVectorizer()\n",
        "vectorizer.fit(data)\n",
        "\n",
        "data = vectorizer.transform(data)"
      ],
      "metadata": {
        "id": "-EkruZ9XDpJv"
      },
      "execution_count": null,
      "outputs": []
    },
    {
      "cell_type": "code",
      "source": [
        "print(data)"
      ],
      "metadata": {
        "colab": {
          "base_uri": "https://localhost:8080/"
        },
        "id": "xQN5ZgfFGDOA",
        "outputId": "34c5b43c-e5ac-4876-e1f5-5c5770837a79"
      },
      "execution_count": null,
      "outputs": [
        {
          "output_type": "stream",
          "name": "stdout",
          "text": [
            "  (0, 19446)\t0.18513179632996182\n",
            "  (0, 18833)\t0.27292246921689084\n",
            "  (0, 18512)\t0.25342931357697235\n",
            "  (0, 15970)\t0.22026216190300366\n",
            "  (0, 10748)\t0.31058147339899256\n",
            "  (0, 10442)\t0.2495312426118576\n",
            "  (0, 9407)\t0.21171360352527424\n",
            "  (0, 9312)\t0.14981025066923848\n",
            "  (0, 8585)\t0.1898210532228285\n",
            "  (0, 6249)\t0.19929771365054014\n",
            "  (0, 5113)\t0.25342931357697235\n",
            "  (0, 4861)\t0.2329910273166481\n",
            "  (0, 4638)\t0.30741885654065226\n",
            "  (0, 3858)\t0.21085327543636695\n",
            "  (0, 3320)\t0.31404572821082616\n",
            "  (0, 810)\t0.347350298440895\n",
            "  (1, 19788)\t0.2984484850097676\n",
            "  (1, 12759)\t0.15936029925880085\n",
            "  (1, 8365)\t0.19133217782924253\n",
            "  (1, 6885)\t0.7089401776361209\n",
            "  (1, 4602)\t0.26278262442617073\n",
            "  (1, 3685)\t0.189624759720497\n",
            "  (1, 3029)\t0.3641932789948744\n",
            "  (1, 2654)\t0.15404857919732357\n",
            "  (1, 2215)\t0.2914595214756064\n",
            "  :\t:\n",
            "  (20797, 9271)\t0.12679343247977795\n",
            "  (20797, 8625)\t0.21052430990528523\n",
            "  (20797, 4688)\t0.2068180932901781\n",
            "  (20797, 2924)\t0.1464071242989423\n",
            "  (20797, 1981)\t0.32389377616190745\n",
            "  (20797, 1303)\t0.29634855172260455\n",
            "  (20797, 1102)\t0.09995857314985276\n",
            "  (20797, 534)\t0.29040959198102456\n",
            "  (20798, 18091)\t0.11409565099609323\n",
            "  (20798, 15487)\t0.21967575810673012\n",
            "  (20798, 13159)\t0.4381592019656474\n",
            "  (20798, 12183)\t0.3136008907203092\n",
            "  (20798, 8906)\t0.1282088082052863\n",
            "  (20798, 8450)\t0.3215035105403367\n",
            "  (20798, 6320)\t0.405618919772502\n",
            "  (20798, 1795)\t0.4381592019656474\n",
            "  (20798, 1174)\t0.30570758460009384\n",
            "  (20798, 899)\t0.28040401455485336\n",
            "  (20799, 19568)\t0.2785286207224125\n",
            "  (20799, 17906)\t0.10490379422975529\n",
            "  (20799, 17533)\t0.4649763139733978\n",
            "  (20799, 9781)\t0.3765941032745931\n",
            "  (20799, 4665)\t0.31061572626308587\n",
            "  (20799, 929)\t0.47018684577271713\n",
            "  (20799, 270)\t0.4856265137711778\n"
          ]
        }
      ]
    },
    {
      "cell_type": "markdown",
      "source": [
        "'train_test_split' is a function provided by the Python machine learning library scikit-learn that is used for splitting a dataset into two subsets: a training set and a test set."
      ],
      "metadata": {
        "id": "QEdSQvxdGsqG"
      }
    },
    {
      "cell_type": "markdown",
      "source": [
        "It is important to evaluate the performance of the model on new data that was not used during training, so that we can estimate how well the model will generalize to new, unseen data. To achieve this, we split the original dataset into two subsets: the training set, which is used to train the model, and the test set, which is used to evaluate the performance of the trained model."
      ],
      "metadata": {
        "id": "BSJKkMrjHKAW"
      }
    },
    {
      "cell_type": "code",
      "source": [
        "data_train, data_test, label_train, label_test = train_test_split(data,label, test_size=0.2, stratify=label, random_state=2)"
      ],
      "metadata": {
        "id": "Hs9mqs6xHtRR"
      },
      "execution_count": null,
      "outputs": []
    },
    {
      "cell_type": "markdown",
      "source": [
        "We have set 'test_size=0.2', so 'train_test_split' will split the dataset into a training set containing 80% of the data and a test set containing 20% of the data"
      ],
      "metadata": {
        "id": "QFunuukpIcIW"
      }
    },
    {
      "cell_type": "markdown",
      "source": [
        "**Training the model: Logistic Regression**\n"
      ],
      "metadata": {
        "id": "4HOFizWPJDjt"
      }
    },
    {
      "cell_type": "markdown",
      "source": [
        "Logistic Regression is a popular statistical model used for classification tasks in machine learning. The goal of logistic regression is to predict the probability that an input data point belongs to a particular class."
      ],
      "metadata": {
        "id": "ouPkOqw5JLUW"
      }
    },
    {
      "cell_type": "code",
      "source": [
        "model = LogisticRegression()"
      ],
      "metadata": {
        "id": "e7HTJq25JuFh"
      },
      "execution_count": null,
      "outputs": []
    },
    {
      "cell_type": "code",
      "source": [
        "model.fit(data_train, label_train)"
      ],
      "metadata": {
        "colab": {
          "base_uri": "https://localhost:8080/",
          "height": 75
        },
        "id": "EZxftgHoKaB1",
        "outputId": "82006cf3-0c35-4d33-d277-a7d0aa8e3f19"
      },
      "execution_count": null,
      "outputs": [
        {
          "output_type": "execute_result",
          "data": {
            "text/plain": [
              "LogisticRegression()"
            ],
            "text/html": [
              "<style>#sk-container-id-1 {color: black;background-color: white;}#sk-container-id-1 pre{padding: 0;}#sk-container-id-1 div.sk-toggleable {background-color: white;}#sk-container-id-1 label.sk-toggleable__label {cursor: pointer;display: block;width: 100%;margin-bottom: 0;padding: 0.3em;box-sizing: border-box;text-align: center;}#sk-container-id-1 label.sk-toggleable__label-arrow:before {content: \"▸\";float: left;margin-right: 0.25em;color: #696969;}#sk-container-id-1 label.sk-toggleable__label-arrow:hover:before {color: black;}#sk-container-id-1 div.sk-estimator:hover label.sk-toggleable__label-arrow:before {color: black;}#sk-container-id-1 div.sk-toggleable__content {max-height: 0;max-width: 0;overflow: hidden;text-align: left;background-color: #f0f8ff;}#sk-container-id-1 div.sk-toggleable__content pre {margin: 0.2em;color: black;border-radius: 0.25em;background-color: #f0f8ff;}#sk-container-id-1 input.sk-toggleable__control:checked~div.sk-toggleable__content {max-height: 200px;max-width: 100%;overflow: auto;}#sk-container-id-1 input.sk-toggleable__control:checked~label.sk-toggleable__label-arrow:before {content: \"▾\";}#sk-container-id-1 div.sk-estimator input.sk-toggleable__control:checked~label.sk-toggleable__label {background-color: #d4ebff;}#sk-container-id-1 div.sk-label input.sk-toggleable__control:checked~label.sk-toggleable__label {background-color: #d4ebff;}#sk-container-id-1 input.sk-hidden--visually {border: 0;clip: rect(1px 1px 1px 1px);clip: rect(1px, 1px, 1px, 1px);height: 1px;margin: -1px;overflow: hidden;padding: 0;position: absolute;width: 1px;}#sk-container-id-1 div.sk-estimator {font-family: monospace;background-color: #f0f8ff;border: 1px dotted black;border-radius: 0.25em;box-sizing: border-box;margin-bottom: 0.5em;}#sk-container-id-1 div.sk-estimator:hover {background-color: #d4ebff;}#sk-container-id-1 div.sk-parallel-item::after {content: \"\";width: 100%;border-bottom: 1px solid gray;flex-grow: 1;}#sk-container-id-1 div.sk-label:hover label.sk-toggleable__label {background-color: #d4ebff;}#sk-container-id-1 div.sk-serial::before {content: \"\";position: absolute;border-left: 1px solid gray;box-sizing: border-box;top: 0;bottom: 0;left: 50%;z-index: 0;}#sk-container-id-1 div.sk-serial {display: flex;flex-direction: column;align-items: center;background-color: white;padding-right: 0.2em;padding-left: 0.2em;position: relative;}#sk-container-id-1 div.sk-item {position: relative;z-index: 1;}#sk-container-id-1 div.sk-parallel {display: flex;align-items: stretch;justify-content: center;background-color: white;position: relative;}#sk-container-id-1 div.sk-item::before, #sk-container-id-1 div.sk-parallel-item::before {content: \"\";position: absolute;border-left: 1px solid gray;box-sizing: border-box;top: 0;bottom: 0;left: 50%;z-index: -1;}#sk-container-id-1 div.sk-parallel-item {display: flex;flex-direction: column;z-index: 1;position: relative;background-color: white;}#sk-container-id-1 div.sk-parallel-item:first-child::after {align-self: flex-end;width: 50%;}#sk-container-id-1 div.sk-parallel-item:last-child::after {align-self: flex-start;width: 50%;}#sk-container-id-1 div.sk-parallel-item:only-child::after {width: 0;}#sk-container-id-1 div.sk-dashed-wrapped {border: 1px dashed gray;margin: 0 0.4em 0.5em 0.4em;box-sizing: border-box;padding-bottom: 0.4em;background-color: white;}#sk-container-id-1 div.sk-label label {font-family: monospace;font-weight: bold;display: inline-block;line-height: 1.2em;}#sk-container-id-1 div.sk-label-container {text-align: center;}#sk-container-id-1 div.sk-container {/* jupyter's `normalize.less` sets `[hidden] { display: none; }` but bootstrap.min.css set `[hidden] { display: none !important; }` so we also need the `!important` here to be able to override the default hidden behavior on the sphinx rendered scikit-learn.org. See: https://github.com/scikit-learn/scikit-learn/issues/21755 */display: inline-block !important;position: relative;}#sk-container-id-1 div.sk-text-repr-fallback {display: none;}</style><div id=\"sk-container-id-1\" class=\"sk-top-container\"><div class=\"sk-text-repr-fallback\"><pre>LogisticRegression()</pre><b>In a Jupyter environment, please rerun this cell to show the HTML representation or trust the notebook. <br />On GitHub, the HTML representation is unable to render, please try loading this page with nbviewer.org.</b></div><div class=\"sk-container\" hidden><div class=\"sk-item\"><div class=\"sk-estimator sk-toggleable\"><input class=\"sk-toggleable__control sk-hidden--visually\" id=\"sk-estimator-id-1\" type=\"checkbox\" checked><label for=\"sk-estimator-id-1\" class=\"sk-toggleable__label sk-toggleable__label-arrow\">LogisticRegression</label><div class=\"sk-toggleable__content\"><pre>LogisticRegression()</pre></div></div></div></div></div>"
            ]
          },
          "metadata": {},
          "execution_count": 21
        }
      ]
    },
    {
      "cell_type": "markdown",
      "source": [
        "**Accuracy score**"
      ],
      "metadata": {
        "id": "9me_LovLKn_O"
      }
    },
    {
      "cell_type": "markdown",
      "source": [
        "The 'accuracy_score' function is a performance metric in machine learning that measures the accuracy of a classification model. Specifically, it calculates the proportion of correctly predicted labels out of the total number of labels in the test data."
      ],
      "metadata": {
        "id": "5_RfLcSnLkKV"
      }
    },
    {
      "cell_type": "code",
      "source": [
        "#accuracy score on the training data\n",
        "data_train_prediction = model.predict(data_train)\n",
        "training_accuracy = accuracy_score(data_train_prediction, label_train)"
      ],
      "metadata": {
        "id": "WY-xMIJmKqNu"
      },
      "execution_count": null,
      "outputs": []
    },
    {
      "cell_type": "code",
      "source": [
        "print('Accuracy score of the training data is ', training_accuracy)"
      ],
      "metadata": {
        "colab": {
          "base_uri": "https://localhost:8080/"
        },
        "id": "LncpRs3kLZC1",
        "outputId": "5f39747f-1818-4d8e-ba98-b0be30e5f5e4"
      },
      "execution_count": null,
      "outputs": [
        {
          "output_type": "stream",
          "name": "stdout",
          "text": [
            "Accuracy score of the training data is  0.9862980769230769\n"
          ]
        }
      ]
    },
    {
      "cell_type": "markdown",
      "source": [
        "The accuracy score is a useful metric for evaluating the performance of a classification model, but it should be used in conjunction with other metrics, such as precision, recall, and F1 score, to get a more comprehensive picture of the model's performance.\n",
        "\n",
        "\n",
        "1.   Precision - Precision measures the proportion of true positives out of the total predicted positives\n",
        "2.   Recall - Recall measures the proportion of true positives out of the total actual positives\n",
        "3.   F1 Score - The F1 Score is a weighted average of precision and recall\n",
        "\n"
      ],
      "metadata": {
        "id": "BmELCM2JMJ3W"
      }
    },
    {
      "cell_type": "code",
      "source": [
        "training_precision = precision_score(data_train_prediction, label_train)\n",
        "training_recall = recall_score(data_train_prediction, label_train)\n",
        "training_f1 = f1_score(data_train_prediction, label_train)"
      ],
      "metadata": {
        "id": "lNzOlw_FM1Ws"
      },
      "execution_count": null,
      "outputs": []
    },
    {
      "cell_type": "code",
      "source": [
        "print('Precision score of the training data is ', training_precision)"
      ],
      "metadata": {
        "colab": {
          "base_uri": "https://localhost:8080/"
        },
        "id": "wyd6ST9dNGtN",
        "outputId": "11982fb2-fd20-46ad-b35a-56665e13251f"
      },
      "execution_count": null,
      "outputs": [
        {
          "output_type": "stream",
          "name": "stdout",
          "text": [
            "Precision score of the training data is  0.9943577430972389\n"
          ]
        }
      ]
    },
    {
      "cell_type": "code",
      "source": [
        "print('Recall score of the training data is ', training_recall)"
      ],
      "metadata": {
        "colab": {
          "base_uri": "https://localhost:8080/"
        },
        "id": "fhPI6H3HNMT9",
        "outputId": "943c3b41-dc10-4fc8-d51d-e3c85eaeb488"
      },
      "execution_count": null,
      "outputs": [
        {
          "output_type": "stream",
          "name": "stdout",
          "text": [
            "Recall score of the training data is  0.9786153119092628\n"
          ]
        }
      ]
    },
    {
      "cell_type": "code",
      "source": [
        "print('F1 score of the training data is ', training_f1)"
      ],
      "metadata": {
        "colab": {
          "base_uri": "https://localhost:8080/"
        },
        "id": "W2_5-PBUNU5F",
        "outputId": "b5e9736a-ed6c-4f9e-f871-91343055d7c7"
      },
      "execution_count": null,
      "outputs": [
        {
          "output_type": "stream",
          "name": "stdout",
          "text": [
            "F1 score of the training data is  0.986423722758128\n"
          ]
        }
      ]
    },
    {
      "cell_type": "code",
      "source": [
        "#accuracy score on the test data\n",
        "data_test_prediction = model.predict(data_test)\n",
        "test_accuracy = accuracy_score(data_test_prediction, label_test)"
      ],
      "metadata": {
        "id": "-G86o3HIOFgW"
      },
      "execution_count": null,
      "outputs": []
    },
    {
      "cell_type": "code",
      "source": [
        "print('Accuracy score of the test data is ',test_accuracy)"
      ],
      "metadata": {
        "colab": {
          "base_uri": "https://localhost:8080/"
        },
        "id": "4WrHtAvXOU42",
        "outputId": "34a0d421-af93-4be2-9fc3-213beafe9543"
      },
      "execution_count": null,
      "outputs": [
        {
          "output_type": "stream",
          "name": "stdout",
          "text": [
            "Accuracy score of the test data is  0.9776442307692308\n"
          ]
        }
      ]
    },
    {
      "cell_type": "code",
      "source": [
        "test_precision = precision_score(data_test_prediction, label_test)\n",
        "test_recall = recall_score(data_test_prediction, label_test)\n",
        "test_f1 = f1_score(data_test_prediction, label_test)"
      ],
      "metadata": {
        "id": "YxBdJ1lNOZyl"
      },
      "execution_count": null,
      "outputs": []
    },
    {
      "cell_type": "code",
      "source": [
        "print('Precision score of the test data is ', test_precision)"
      ],
      "metadata": {
        "colab": {
          "base_uri": "https://localhost:8080/"
        },
        "id": "9T0JeHU5Ok5m",
        "outputId": "dc9e2942-19fe-41e9-a0ea-e2f9b1585428"
      },
      "execution_count": null,
      "outputs": [
        {
          "output_type": "stream",
          "name": "stdout",
          "text": [
            "Precision score of the test data is  0.9932789246279404\n"
          ]
        }
      ]
    },
    {
      "cell_type": "code",
      "source": [
        "print('Recall score of the test data is ', test_recall)"
      ],
      "metadata": {
        "colab": {
          "base_uri": "https://localhost:8080/"
        },
        "id": "hhlo6cxbOpat",
        "outputId": "9d2e6114-404f-4191-fa02-548b977c797a"
      },
      "execution_count": null,
      "outputs": [
        {
          "output_type": "stream",
          "name": "stdout",
          "text": [
            "Recall score of the test data is  0.9632216014897579\n"
          ]
        }
      ]
    },
    {
      "cell_type": "code",
      "source": [
        "print('F1 score of the test data is ', test_f1)"
      ],
      "metadata": {
        "colab": {
          "base_uri": "https://localhost:8080/"
        },
        "id": "lLu95FrUOtk2",
        "outputId": "113b0830-df58-4af0-c825-bb8b0f79d429"
      },
      "execution_count": null,
      "outputs": [
        {
          "output_type": "stream",
          "name": "stdout",
          "text": [
            "F1 score of the test data is  0.9780193807610493\n"
          ]
        }
      ]
    },
    {
      "cell_type": "code",
      "source": [
        "# Visualize metrics\n",
        "metrics = pd.DataFrame({\"Accuracy\": test_accuracy,\n",
        "                           \"Precision\": test_precision,\n",
        "                           \"Recall\": test_recall,\n",
        "                           \"F1\": test_f1},\n",
        "                            index=[0])\n",
        "metrics_bar = metrics.T.plot.bar(title=\"Classification metrics\", legend=False)\n",
        "\n",
        "for b in metrics_bar.containers:\n",
        "    metrics_bar.bar_label(b, label_type='edge')\n",
        "\n",
        "plt.show()"
      ],
      "metadata": {
        "colab": {
          "base_uri": "https://localhost:8080/",
          "height": 317
        },
        "id": "0chY31nLvIPk",
        "outputId": "89d44db8-a66e-4722-9b90-5671444a9e39"
      },
      "execution_count": null,
      "outputs": [
        {
          "output_type": "display_data",
          "data": {
            "text/plain": [
              "<Figure size 432x288 with 1 Axes>"
            ],
            "image/png": "[encoded data removed]"
          },
          "metadata": {
            "needs_background": "light"
          }
        }
      ]
    },
    {
      "cell_type": "code",
      "source": [
        "# Show how each feature contributes to the label\n",
        "model.coef_"
      ],
      "metadata": {
        "colab": {
          "base_uri": "https://localhost:8080/"
        },
        "id": "DBfI17FQzW5s",
        "outputId": "f86080c4-0710-48f2-9c72-64ce42a96904"
      },
      "execution_count": null,
      "outputs": [
        {
          "output_type": "execute_result",
          "data": {
            "text/plain": [
              "array([[-0.03810481,  0.02131129,  0.14160652, ...,  0.09158363,\n",
              "         0.16759511,  0.05314319]])"
            ]
          },
          "metadata": {},
          "execution_count": 35
        }
      ]
    },
    {
      "cell_type": "code",
      "source": [
        "# Match coef's of features to columns\n",
        "features_dict = dict(zip(newsData.columns, list(model.coef_[0])))\n",
        "features_dict"
      ],
      "metadata": {
        "colab": {
          "base_uri": "https://localhost:8080/"
        },
        "id": "4jnW0_9c0sCM",
        "outputId": "fdde8f10-4bab-4e39-c63c-e11dafc81a6b"
      },
      "execution_count": null,
      "outputs": [
        {
          "output_type": "execute_result",
          "data": {
            "text/plain": [
              "{'id': -0.03810480559471624,\n",
              " 'title': 0.02131128743298299,\n",
              " 'author': 0.1416065246489042,\n",
              " 'text': 0.11033162792950219,\n",
              " 'label': 0.07131755645708518,\n",
              " 'content': 0.03509976727659578}"
            ]
          },
          "metadata": {},
          "execution_count": 36
        }
      ]
    },
    {
      "cell_type": "code",
      "source": [
        "# Visualize feature importance\n",
        "features_df = pd.DataFrame(features_dict, index=[0])\n",
        "features_df.T.plot.bar(title=\"Feature Importance\", legend=False);"
      ],
      "metadata": {
        "colab": {
          "base_uri": "https://localhost:8080/",
          "height": 309
        },
        "id": "E8ACxhoO1ldN",
        "outputId": "8ed9bf05-88e2-41cd-c79e-f80585da2f2b"
      },
      "execution_count": null,
      "outputs": [
        {
          "output_type": "display_data",
          "data": {
            "text/plain": [
              "<Figure size 432x288 with 1 Axes>"
            ],
            "image/png": "[encoded data removed]"
          },
          "metadata": {
            "needs_background": "light"
          }
        }
      ]
    },
    {
      "cell_type": "markdown",
      "source": [
        "**Making a predictive system**"
      ],
      "metadata": {
        "id": "WmMe8dGOPESM"
      }
    },
    {
      "cell_type": "code",
      "source": [
        "data_new = data_test[3]\n",
        "prediction = model.predict(data_new)\n",
        "print(prediction)"
      ],
      "metadata": {
        "colab": {
          "base_uri": "https://localhost:8080/"
        },
        "id": "W-D09i6oPHHn",
        "outputId": "842a2132-7b8c-4ee4-adcf-f1cb53b9c412"
      },
      "execution_count": null,
      "outputs": [
        {
          "output_type": "stream",
          "name": "stdout",
          "text": [
            "[0]\n"
          ]
        }
      ]
    },
    {
      "cell_type": "code",
      "source": [
        "if(prediction[0]==0):\n",
        "  print('The news is real')\n",
        "else:\n",
        "  print('The news is fake')"
      ],
      "metadata": {
        "colab": {
          "base_uri": "https://localhost:8080/"
        },
        "id": "69t8R6cUPoV1",
        "outputId": "94eb4b36-6ccd-448c-8b77-2c0e81ff4fe4"
      },
      "execution_count": null,
      "outputs": [
        {
          "output_type": "stream",
          "name": "stdout",
          "text": [
            "The news is real\n"
          ]
        }
      ]
    }
  ]
}